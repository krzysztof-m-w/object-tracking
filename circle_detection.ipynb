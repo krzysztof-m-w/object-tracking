{
 "cells": [
  {
   "cell_type": "code",
   "execution_count": 1,
   "metadata": {},
   "outputs": [],
   "source": [
    "from utils import *"
   ]
  },
  {
   "cell_type": "code",
   "execution_count": 2,
   "metadata": {},
   "outputs": [],
   "source": [
    "def find_circles(frame):\n",
    "    gray_frame = cv2.cvtColor(frame, cv2.COLOR_BGR2GRAY)\n",
    "    blurred_image = cv2.GaussianBlur(gray_frame, (9, 9), 2)\n",
    "\n",
    "    circles = cv2.HoughCircles(\n",
    "        blurred_image, cv2.HOUGH_GRADIENT, dp=1, minDist=50, param1=100, param2=20, minRadius=10, maxRadius=50\n",
    "    )\n",
    "\n",
    "    image = frame.copy()\n",
    "\n",
    "    if circles is not None:\n",
    "        circles = np.uint16(np.around(circles))\n",
    "        centers = list()\n",
    "\n",
    "        for circle in circles[0, :]:\n",
    "            center = (circle[0], circle[1])\n",
    "            radius = circle[2]\n",
    "            # Draw the outer circle\n",
    "            cv2.circle(image, center, radius, (0, 255, 0), 2)\n",
    "            # Draw the center of the circle\n",
    "            cv2.circle(image, center, 2, (0, 0, 255), 3)\n",
    "\n",
    "            centers.append(center)\n",
    "\n",
    "    return image, centers"
   ]
  },
  {
   "cell_type": "code",
   "execution_count": 7,
   "metadata": {},
   "outputs": [],
   "source": [
    "def get_center_count(centers, contours, bias=20):\n",
    "    circles_count = np.zeros(64)\n",
    "    for i, contour in enumerate(contours):\n",
    "        for center in centers:\n",
    "            distance = cv2.pointPolygonTest(contour, center, measureDist=True)\n",
    "            if distance > -bias:\n",
    "                circles_count[i] += distance + bias\n",
    "\n",
    "    return circles_count"
   ]
  },
  {
   "cell_type": "code",
   "execution_count": 14,
   "metadata": {},
   "outputs": [],
   "source": [
    "def detect_and_write_circles(path, contour_frame):\n",
    "    video = video_from_path(f'recordings/{path}.mp4')\n",
    "\n",
    "    width = int(video.get(3))\n",
    "    height = int(video.get(4))\n",
    "\n",
    "    fps = video.get(cv2.CAP_PROP_FPS)\n",
    "\n",
    "\n",
    "    circle_writer = cv2.VideoWriter(\n",
    "        f'circles_detected/{path}.mp4',\n",
    "        cv2.VideoWriter_fourcc(*\"mp4v\"),\n",
    "        fps,\n",
    "        (width, height),\n",
    "        True\n",
    "    )\n",
    "\n",
    "    centers_frame = list()\n",
    "\n",
    "    j = 0\n",
    "    video.set(cv2.CAP_PROP_POS_FRAMES, 0)\n",
    "    while video.isOpened():\n",
    "        ret, frame = video.read()\n",
    "\n",
    "        if ret:\n",
    "            image, centers = find_circles(frame)\n",
    "\n",
    "            contours = contour_frame[j-1]\n",
    "            centers_count = get_center_count(centers, contours)\n",
    "            centers_frame.append(centers_count)\n",
    "\n",
    "            circle_writer.write(image)\n",
    "            j += 1\n",
    "        else:\n",
    "            break\n",
    "\n",
    "    circle_writer.release()\n",
    "    np.save(f'circles_centers/{path}.npy', centers_frame)"
   ]
  },
  {
   "cell_type": "markdown",
   "metadata": {},
   "source": [
    "### Easy1"
   ]
  },
  {
   "cell_type": "code",
   "execution_count": 15,
   "metadata": {},
   "outputs": [
    {
     "name": "stdout",
     "output_type": "stream",
     "text": [
      "Video loaded\n",
      "912 720\n",
      "30.00030000300003\n"
     ]
    }
   ],
   "source": [
    "contour_frame = load_contour_parameters('Easy1')\n",
    "detect_and_write_circles('Easy1', contour_frame)"
   ]
  },
  {
   "cell_type": "markdown",
   "metadata": {},
   "source": [
    "### Easy2"
   ]
  },
  {
   "cell_type": "code",
   "execution_count": 16,
   "metadata": {},
   "outputs": [
    {
     "name": "stdout",
     "output_type": "stream",
     "text": [
      "Video loaded\n",
      "920 720\n",
      "30.00030000300003\n"
     ]
    }
   ],
   "source": [
    "contour_frame = load_contour_parameters('Easy2')\n",
    "detect_and_write_circles('Easy2', contour_frame)"
   ]
  },
  {
   "cell_type": "markdown",
   "metadata": {},
   "source": [
    "### Easy3"
   ]
  },
  {
   "cell_type": "code",
   "execution_count": 17,
   "metadata": {},
   "outputs": [
    {
     "name": "stdout",
     "output_type": "stream",
     "text": [
      "Video loaded\n",
      "876 720\n",
      "30.00030000300003\n"
     ]
    }
   ],
   "source": [
    "contour_frame = load_contour_parameters('Easy3')\n",
    "detect_and_write_circles('Easy3', contour_frame)"
   ]
  },
  {
   "cell_type": "markdown",
   "metadata": {},
   "source": [
    "### Medium1"
   ]
  },
  {
   "cell_type": "code",
   "execution_count": 18,
   "metadata": {},
   "outputs": [
    {
     "name": "stdout",
     "output_type": "stream",
     "text": [
      "Video loaded\n",
      "866 720\n",
      "30.00030000300003\n"
     ]
    }
   ],
   "source": [
    "contour_frame = load_contour_parameters('Medium1')\n",
    "detect_and_write_circles('Medium1', contour_frame)"
   ]
  },
  {
   "cell_type": "markdown",
   "metadata": {},
   "source": [
    "### Medium2"
   ]
  },
  {
   "cell_type": "code",
   "execution_count": 19,
   "metadata": {},
   "outputs": [
    {
     "name": "stdout",
     "output_type": "stream",
     "text": [
      "Video loaded\n",
      "884 720\n",
      "30.00030000300003\n"
     ]
    }
   ],
   "source": [
    "contour_frame = load_contour_parameters('Medium2')\n",
    "detect_and_write_circles('Medium2', contour_frame)"
   ]
  },
  {
   "cell_type": "markdown",
   "metadata": {},
   "source": [
    "### Medium3"
   ]
  },
  {
   "cell_type": "code",
   "execution_count": 20,
   "metadata": {},
   "outputs": [
    {
     "name": "stdout",
     "output_type": "stream",
     "text": [
      "Video loaded\n",
      "876 720\n",
      "30.00030000300003\n"
     ]
    }
   ],
   "source": [
    "contour_frame = load_contour_parameters('Medium3')\n",
    "detect_and_write_circles('Medium3', contour_frame)"
   ]
  },
  {
   "cell_type": "markdown",
   "metadata": {},
   "source": [
    "### Hard1"
   ]
  },
  {
   "cell_type": "code",
   "execution_count": 21,
   "metadata": {},
   "outputs": [
    {
     "name": "stdout",
     "output_type": "stream",
     "text": [
      "Video loaded\n",
      "816 720\n",
      "30.00030000300003\n"
     ]
    }
   ],
   "source": [
    "contour_frame = load_contour_parameters('Hard1')\n",
    "detect_and_write_circles('Hard1', contour_frame)"
   ]
  },
  {
   "cell_type": "markdown",
   "metadata": {},
   "source": [
    "### Hard2"
   ]
  },
  {
   "cell_type": "code",
   "execution_count": 22,
   "metadata": {},
   "outputs": [
    {
     "name": "stdout",
     "output_type": "stream",
     "text": [
      "Video loaded\n",
      "798 720\n",
      "30.00030000300003\n"
     ]
    }
   ],
   "source": [
    "contour_frame = load_contour_parameters('Hard2')\n",
    "detect_and_write_circles('Hard2', contour_frame)"
   ]
  },
  {
   "cell_type": "markdown",
   "metadata": {},
   "source": [
    "### Hard3"
   ]
  },
  {
   "cell_type": "code",
   "execution_count": 23,
   "metadata": {},
   "outputs": [
    {
     "name": "stdout",
     "output_type": "stream",
     "text": [
      "Video loaded\n",
      "720 752\n",
      "30.00030000300003\n"
     ]
    }
   ],
   "source": [
    "contour_frame = load_contour_parameters('Hard3')\n",
    "detect_and_write_circles('Hard3', contour_frame)"
   ]
  }
 ],
 "metadata": {
  "kernelspec": {
   "display_name": "Python 3",
   "language": "python",
   "name": "python3"
  },
  "language_info": {
   "codemirror_mode": {
    "name": "ipython",
    "version": 3
   },
   "file_extension": ".py",
   "mimetype": "text/x-python",
   "name": "python",
   "nbconvert_exporter": "python",
   "pygments_lexer": "ipython3",
   "version": "3.10.11"
  }
 },
 "nbformat": 4,
 "nbformat_minor": 2
}
